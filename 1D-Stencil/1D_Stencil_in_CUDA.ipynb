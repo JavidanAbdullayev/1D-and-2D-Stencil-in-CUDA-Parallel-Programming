{
  "nbformat": 4,
  "nbformat_minor": 0,
  "metadata": {
    "colab": {
      "name": "1D_Stencil_in_CUDA.ipynb",
      "provenance": [],
      "collapsed_sections": []
    },
    "kernelspec": {
      "name": "python3",
      "display_name": "Python 3"
    },
    "accelerator": "GPU"
  },
  "cells": [
    {
      "cell_type": "code",
      "metadata": {
        "colab": {
          "base_uri": "https://localhost:8080/"
        },
        "id": "c4Im4KlaVX2T",
        "outputId": "99f33466-9c5a-4fcb-9f9d-12b398118a8a"
      },
      "source": [
        "!pip install git+git://github.com/andreinechaev/nvcc4jupyter.git"
      ],
      "execution_count": null,
      "outputs": [
        {
          "output_type": "stream",
          "text": [
            "Collecting git+git://github.com/andreinechaev/nvcc4jupyter.git\n",
            "  Cloning git://github.com/andreinechaev/nvcc4jupyter.git to /tmp/pip-req-build-joj1pcxy\n",
            "  Running command git clone -q git://github.com/andreinechaev/nvcc4jupyter.git /tmp/pip-req-build-joj1pcxy\n",
            "Building wheels for collected packages: NVCCPlugin\n",
            "  Building wheel for NVCCPlugin (setup.py) ... \u001b[?25l\u001b[?25hdone\n",
            "  Created wheel for NVCCPlugin: filename=NVCCPlugin-0.0.2-cp37-none-any.whl size=4307 sha256=213d290f802b04ffab32d6894e75694bfdf512e825139868f298c0b342cf3760\n",
            "  Stored in directory: /tmp/pip-ephem-wheel-cache-4t6nnhc3/wheels/10/c2/05/ca241da37bff77d60d31a9174f988109c61ba989e4d4650516\n",
            "Successfully built NVCCPlugin\n",
            "Installing collected packages: NVCCPlugin\n",
            "Successfully installed NVCCPlugin-0.0.2\n"
          ],
          "name": "stdout"
        }
      ]
    },
    {
      "cell_type": "code",
      "metadata": {
        "colab": {
          "base_uri": "https://localhost:8080/"
        },
        "id": "V1YkHZjbVeWg",
        "outputId": "991625df-33f7-4d84-883d-6a21c9e920ec"
      },
      "source": [
        "%load_ext nvcc_plugin"
      ],
      "execution_count": null,
      "outputs": [
        {
          "output_type": "stream",
          "text": [
            "created output directory at /content/src\n",
            "Out bin /content/result.out\n"
          ],
          "name": "stdout"
        }
      ]
    },
    {
      "cell_type": "markdown",
      "metadata": {
        "id": "HtVJfA3PWGS1"
      },
      "source": [
        "## Stencil 1D operation in CPU "
      ]
    },
    {
      "cell_type": "code",
      "metadata": {
        "colab": {
          "base_uri": "https://localhost:8080/"
        },
        "id": "D5v48RGoWGfe",
        "outputId": "7c7d1e62-bd6b-4a92-b57f-619969c09ce0"
      },
      "source": [
        "%%cu\n",
        "#include <cuda.h>\n",
        "#include <iostream>\n",
        "using namespace std;\n",
        "\n",
        "void stencil_1D(int in[], int out[], int tout){\n",
        "    int radius = 3;\n",
        "    int sum;\n",
        "\n",
        "    for (int i=0; i<tout; i++){\n",
        "      int j = i + radius;\n",
        "      sum = 0;\n",
        "      for (int offset=-radius; offset<=radius; offset++){\n",
        "          sum += in[j+offset];\n",
        "      }\n",
        "      out[i] = sum;\n",
        "    }\n",
        "\n",
        "}\n",
        "\n",
        "int main(){\n",
        "    int tout = 14;\n",
        "    int arr[20] =  {1, 2, 3, 4, 5, 6, 7, 8, 9, 10, 11, 12, 13, 14, 15, 16, 17, 18, 19, 20};\n",
        "    int out[tout];\n",
        "    stencil_1D(arr, out, tout);\n",
        "\n",
        "    for (int i=0; i<tout; i++){\n",
        "        cout << out[i] << \" \";\n",
        "    }\n",
        "\n",
        "  return 0;\n",
        "}"
      ],
      "execution_count": 3,
      "outputs": [
        {
          "output_type": "stream",
          "text": [
            "28 35 42 49 56 63 70 77 84 91 98 105 112 119 \n"
          ],
          "name": "stdout"
        }
      ]
    },
    {
      "cell_type": "markdown",
      "metadata": {
        "id": "MiiHM2KFWNqq"
      },
      "source": [
        "## Stencil 1D in GPU (Using Global memory)"
      ]
    },
    {
      "cell_type": "code",
      "metadata": {
        "colab": {
          "base_uri": "https://localhost:8080/"
        },
        "id": "R_ATa6REWIsQ",
        "outputId": "54ba352b-7937-49ff-9a81-05800bdd363b"
      },
      "source": [
        "%%cu\n",
        "#include <cuda.h>\n",
        "#include <iostream>\n",
        "using namespace std;\n",
        "\n",
        "__global__ void stencil_1D(int in[], int out[], int len){\n",
        "   \n",
        "    int radius = 3;\n",
        "    int sum;\n",
        "\n",
        "    int j = threadIdx.x + radius;\n",
        "    sum = 0;\n",
        "    for (int offset=-radius; offset<=radius; offset++){\n",
        "        sum += in[j+offset];\n",
        "    }\n",
        "    out[j-radius] = sum;\n",
        "\n",
        "}\n",
        "\n",
        "int main(){\n",
        "    int tout = 14;\n",
        "    int h_in[20] =  {1, 2, 3, 4, 5, 6, 7, 8, 9, 10, 11, 12, 13, 14, 15, 16, 17, 18, 19, 20};\n",
        "    int h_out[14];\n",
        "    size_t bytes = 20 * sizeof(int);\n",
        "\n",
        "    # // Vectors for holding the device side (GPU side) data\n",
        "    int* d_in, * d_out;\n",
        "    cudaMalloc(&d_in, bytes);\n",
        "    cudaMalloc(&d_out, bytes);\n",
        "\n",
        "    # // Copy data from the host to the device (CPU -> GPU)\n",
        "    cudaMemcpy(d_in, h_in, bytes, cudaMemcpyHostToDevice);\n",
        "    cudaMemcpy(d_out, h_out, 14 * sizeof(int), cudaMemcpyHostToDevice);\n",
        "\n",
        "    stencil_1D<<<1, 14>>>(d_in, d_out, tout);\n",
        "    cudaMemcpy(h_out, d_out, 14 * sizeof(int), cudaMemcpyDeviceToHost);\n",
        "    \n",
        "    for (int i=0; i<tout; i++) \n",
        "      cout << h_out[i] << \" \";\n",
        "    cout << endl;\n",
        "\n",
        "  return 0;\n",
        "}"
      ],
      "execution_count": 4,
      "outputs": [
        {
          "output_type": "stream",
          "text": [
            "28 35 42 49 56 63 70 77 84 91 98 105 112 119 \n",
            "\n"
          ],
          "name": "stdout"
        }
      ]
    },
    {
      "cell_type": "markdown",
      "metadata": {
        "id": "n56G9U-_WWjE"
      },
      "source": [
        "## Stencil 1D with 2D array in GPU (Using Shared memory)"
      ]
    },
    {
      "cell_type": "code",
      "metadata": {
        "colab": {
          "base_uri": "https://localhost:8080/"
        },
        "id": "E1HXOZt6WR7p",
        "outputId": "f9fc6679-8963-4cc3-8849-f62bbc343f6f"
      },
      "source": [
        "# 1D Stencil (CPU)\n",
        "\n",
        "%%cu\n",
        "#include <cuda.h>\n",
        "#include <stdlib.h>\n",
        "#include <stdio.h>\n",
        "#include <iostream>\n",
        "using namespace std;\n",
        "\n",
        "#define N 20\n",
        "#define BLOCK_SIZE 14\n",
        "#define RADIUS 3\n",
        "\n",
        "\n",
        "__global__ void stencil_1d_array2d(int* in, int* out){\n",
        "      \n",
        "   __shared__ int temp[BLOCK_SIZE + 2*RADIUS];  // # Shared memory [Each block has this]\n",
        "   int gindex = threadIdx.x + blockIdx.x * blockDim.x;  // # shows which block I am\n",
        "   int lindex = threadIdx.x + RADIUS;\n",
        "\n",
        "   // #Read input elements into shared memory\n",
        "   \n",
        "   temp[lindex] = in[gindex + RADIUS];\n",
        "\n",
        "   if (threadIdx.x < RADIUS){\n",
        "       temp[lindex - RADIUS] = in[gindex];\n",
        "       temp[lindex + BLOCK_SIZE] = in[(gindex + RADIUS) + BLOCK_SIZE];\n",
        "   }\n",
        "\n",
        "  // # Synchronize (to be ensure all the data is available)\n",
        "  __syncthreads();\n",
        "\n",
        "   // #Apply the stencil\n",
        "    int result = 0;\n",
        "    for (int offset = -RADIUS; offset <= RADIUS; offset++)\n",
        "        result += temp[lindex + offset];\n",
        "    // #Store the result\n",
        "    out[gindex] =  result;\n",
        "       \n",
        "}\n",
        "\n",
        "int main(){\n",
        "  \n",
        "  size_t bytes_in = sizeof(int) * N*N;\n",
        "  size_t bytes_out = sizeof(int) * BLOCK_SIZE*N;\n",
        "  srand(time(NULL));\n",
        "\n",
        "  // #Vectors for holding the host-side (CPU-side) data\n",
        "  int* h_a, * h_c;\n",
        "  // #Vectors for holding the device-side (GPU-side) data\n",
        "  int* d_a, * d_c;\n",
        "\n",
        "  // #Allocate pinned memory\n",
        "  cudaMallocHost(&h_a, bytes_in);\n",
        "  cudaMallocHost(&h_c, bytes_out);\n",
        "\n",
        "  // #Initialize random numbers in each array\n",
        "  for (int i=0; i<N*N; i++)\n",
        "      h_a[i] = rand() %100;\n",
        "  \n",
        "  cout<<\"values of array a \"<<endl;\n",
        "  for (int i=0; i<N; i++){\n",
        "      for (int j=0; j<N; j++)\n",
        "          cout<<h_a[i*N+j]<<\" \";\n",
        "          cout<<endl;\n",
        "  }\n",
        "\n",
        "  cout << endl << \"-------------------------------------------------------------\" << endl;\n",
        "\n",
        "  // #Allocate memory on the device\n",
        "  cudaMalloc(&d_a, bytes_in);\n",
        "  cudaMalloc(&d_c, bytes_out);\n",
        "\n",
        "  // #Copy data from the host to the device (CPU -> GPU)\n",
        "  cudaMemcpy(d_a, h_a, bytes_in, cudaMemcpyHostToDevice);\n",
        "  // #Lauch the kernel\n",
        "  stencil_1d_array2d<<<N, BLOCK_SIZE>>>(d_a, d_c);\n",
        "  // #Copy data from the device to the host (GPU -> CPU)\n",
        "  cudaMemcpy(h_c, d_c, bytes_out, cudaMemcpyDeviceToHost);\n",
        "\n",
        "  cout << endl << \"values of array c \" << endl;\n",
        "  for (int i=0; i<N; i++){\n",
        "      for (int j=0; j<BLOCK_SIZE; j++)\n",
        "          cout << h_c[i*BLOCK_SIZE+j] << \" \";\n",
        "          cout << endl;\n",
        "  }\n",
        "\n",
        "  // #Free pinned memory\n",
        "  cudaFreeHost(h_a);\n",
        "  cudaFreeHost(h_c);\n",
        "\n",
        "  // #Free memory on device\n",
        "  cudaFree(d_a);\n",
        "  cudaFree(d_c);\n",
        "\n",
        "  cout << endl << \" COMPLETED SUCCESSFULLY\\n\";\n",
        "\n",
        "  return 0;\n",
        "}"
      ],
      "execution_count": 5,
      "outputs": [
        {
          "output_type": "stream",
          "text": [
            "values of array a \n",
            "23 25 98 42 13 64 94 46 72 29 25 17 49 44 54 62 59 35 54 98 \n",
            "67 49 83 77 60 97 71 58 40 13 61 63 91 11 57 4 76 4 3 0 \n",
            "33 28 69 35 25 75 49 36 62 3 34 29 53 69 59 65 67 30 24 7 \n",
            "95 37 23 86 49 80 43 77 36 46 29 70 26 51 5 51 26 6 87 89 \n",
            "10 74 70 15 43 81 32 10 63 8 70 59 46 93 97 47 25 40 24 62 \n",
            "86 5 84 13 56 41 16 83 47 56 72 9 30 94 24 25 76 9 88 39 \n",
            "17 58 98 63 3 96 10 80 88 86 94 75 92 78 40 0 71 56 83 71 \n",
            "64 7 80 94 2 57 72 78 66 60 17 35 18 68 99 73 64 61 53 4 \n",
            "0 48 31 44 78 71 44 2 80 28 73 44 35 5 91 89 14 15 67 32 \n",
            "75 37 68 45 5 19 18 21 32 23 25 32 71 57 76 2 80 21 56 60 \n",
            "1 81 57 88 86 0 78 53 15 97 85 90 34 5 35 39 24 5 12 57 \n",
            "28 38 41 52 95 18 54 27 91 62 88 92 43 97 80 81 97 10 34 12 \n",
            "8 72 54 94 77 41 86 2 46 98 11 74 36 52 78 83 22 32 11 65 \n",
            "46 51 57 89 48 90 71 97 52 5 61 12 77 15 59 7 8 45 9 6 \n",
            "43 72 80 32 76 11 67 51 95 30 16 42 33 26 31 33 68 2 30 72 \n",
            "60 91 85 89 58 44 96 18 41 57 24 36 81 57 68 58 68 88 61 63 \n",
            "70 77 5 4 55 37 37 23 91 20 96 3 11 33 45 22 77 93 92 70 \n",
            "51 17 6 84 74 75 94 42 15 55 57 85 33 63 41 40 52 79 64 95 \n",
            "99 12 51 62 45 96 36 74 89 29 44 92 98 50 77 72 77 71 66 44 \n",
            "27 23 82 12 38 23 4 42 54 68 90 5 32 41 20 29 89 8 3 78 \n",
            "\n",
            "-------------------------------------------------------------\n",
            "\n",
            "values of array c \n",
            "359 382 429 360 343 347 332 282 290 280 310 320 357 406 \n",
            "429 424 445 463 488 531 504 495 486 416 400 403 397 337 \n",
            "336 300 363 306 246 155 177 148 213 172 193 265 314 317 \n",
            "351 285 284 288 266 286 309 312 376 372 367 321 347 325 \n",
            "283 302 321 377 413 395 394 417 360 381 327 335 263 278 \n",
            "258 235 252 315 274 343 362 351 388 382 325 325 314 252 \n",
            "307 323 288 349 436 420 437 407 372 388 381 289 326 314 \n",
            "330 347 301 298 340 312 371 324 313 391 332 310 330 267 \n",
            "346 355 278 312 385 372 366 374 345 408 438 426 457 529 \n",
            "525 593 553 465 450 412 420 399 385 352 432 455 401 375 \n",
            "376 390 449 429 352 385 346 342 363 370 374 418 436 422 \n",
            "354 303 261 241 258 276 316 318 350 347 376 342 306 267 \n",
            "356 365 351 293 316 313 383 329 308 339 329 281 267 213 \n",
            "208 163 143 170 222 261 316 286 343 339 363 352 296 301 \n",
            "356 364 429 373 391 443 377 417 414 418 452 379 361 385 \n",
            "312 232 154 177 200 203 205 233 323 329 326 325 378 399 \n",
            "435 432 457 500 553 543 578 500 442 411 322 314 287 284 \n",
            "351 358 432 426 400 444 361 358 353 319 395 432 356 377 \n",
            "314 343 337 310 284 351 367 446 452 503 504 452 424 388 \n",
            "375 319 281 236 239 223 220 149 177 190 263 287 318 320 \n",
            "\n",
            " COMPLETED SUCCESSFULLY\n",
            "\n"
          ],
          "name": "stdout"
        }
      ]
    }
  ]
}