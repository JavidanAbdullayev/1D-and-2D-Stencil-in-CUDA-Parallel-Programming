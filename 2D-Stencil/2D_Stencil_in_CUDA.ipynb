{
  "nbformat": 4,
  "nbformat_minor": 0,
  "metadata": {
    "colab": {
      "name": "2D_Stencil_in_CUDA.ipynb",
      "provenance": [],
      "collapsed_sections": []
    },
    "kernelspec": {
      "name": "python3",
      "display_name": "Python 3"
    },
    "accelerator": "GPU"
  },
  "cells": [
    {
      "cell_type": "code",
      "metadata": {
        "colab": {
          "base_uri": "https://localhost:8080/"
        },
        "id": "c4Im4KlaVX2T",
        "outputId": "99f33466-9c5a-4fcb-9f9d-12b398118a8a"
      },
      "source": [
        "!pip install git+git://github.com/andreinechaev/nvcc4jupyter.git"
      ],
      "execution_count": null,
      "outputs": [
        {
          "output_type": "stream",
          "text": [
            "Collecting git+git://github.com/andreinechaev/nvcc4jupyter.git\n",
            "  Cloning git://github.com/andreinechaev/nvcc4jupyter.git to /tmp/pip-req-build-joj1pcxy\n",
            "  Running command git clone -q git://github.com/andreinechaev/nvcc4jupyter.git /tmp/pip-req-build-joj1pcxy\n",
            "Building wheels for collected packages: NVCCPlugin\n",
            "  Building wheel for NVCCPlugin (setup.py) ... \u001b[?25l\u001b[?25hdone\n",
            "  Created wheel for NVCCPlugin: filename=NVCCPlugin-0.0.2-cp37-none-any.whl size=4307 sha256=213d290f802b04ffab32d6894e75694bfdf512e825139868f298c0b342cf3760\n",
            "  Stored in directory: /tmp/pip-ephem-wheel-cache-4t6nnhc3/wheels/10/c2/05/ca241da37bff77d60d31a9174f988109c61ba989e4d4650516\n",
            "Successfully built NVCCPlugin\n",
            "Installing collected packages: NVCCPlugin\n",
            "Successfully installed NVCCPlugin-0.0.2\n"
          ],
          "name": "stdout"
        }
      ]
    },
    {
      "cell_type": "code",
      "metadata": {
        "colab": {
          "base_uri": "https://localhost:8080/"
        },
        "id": "V1YkHZjbVeWg",
        "outputId": "991625df-33f7-4d84-883d-6a21c9e920ec"
      },
      "source": [
        "%load_ext nvcc_plugin"
      ],
      "execution_count": null,
      "outputs": [
        {
          "output_type": "stream",
          "text": [
            "created output directory at /content/src\n",
            "Out bin /content/result.out\n"
          ],
          "name": "stdout"
        }
      ]
    },
    {
      "cell_type": "markdown",
      "metadata": {
        "id": "4FgBkky8XZLf"
      },
      "source": [
        "## Stencil 2D (in CPU)"
      ]
    },
    {
      "cell_type": "code",
      "metadata": {
        "colab": {
          "base_uri": "https://localhost:8080/"
        },
        "id": "QK884jODXZYQ",
        "outputId": "4b04bf37-7314-4079-9850-4b064e0796d4"
      },
      "source": [
        "%%cu\n",
        "#include <cuda.h>\n",
        "#include <iostream>\n",
        "using namespace std;\n",
        "\n",
        "#define N 4\n",
        "\n",
        "void stencil_2D(int in[], int out[], int size_out){\n",
        "    \n",
        "  int index, left, right, below, above;\n",
        "\n",
        "  for (int i=0; i<size_out; i++){\n",
        "      for (int j=0; j<size_out; j++){\n",
        "          index = (i+1)*N+(j+1);\n",
        "          left = index - 1;\n",
        "          right = index + 1;\n",
        "          above = i*N + (j+1);\n",
        "          below = (i+2)*N + (j+1);\n",
        "\n",
        "          out[i*N + j] = in[index] + in[left] + in[right] + in[above] + in[below];\n",
        "\n",
        "      }\n",
        "  }\n",
        "}\n",
        "\n",
        "int main(){\n",
        "  int in[N*N];\n",
        "  int out[(N-2)*(N-2)];\n",
        "  size_t bytes = N * N * sizeof(int);\n",
        "  srand(time(NULL));\n",
        "  \n",
        "  for (int i=0; i<N*N; i++){\n",
        "      in[i] = rand()%10;\n",
        "  }\n",
        "\n",
        "  for (int i=0; i<N; i++){\n",
        "      for (int j=0; j<N; j++){\n",
        "          cout << in[i*N+j] << \" \";\n",
        "      }\n",
        "      cout << endl;\n",
        "  }\n",
        "\n",
        "  cout << \"-------------Result-----------\\n\";\n",
        "\n",
        "  stencil_2D(in, out, N-2);\n",
        "\n",
        "\n",
        "  for (int i=0; i<2; i++){\n",
        "      for (int j=0; j<2; j++){\n",
        "          cout << out[i*N+j] << \" \";\n",
        "      }\n",
        "      cout << endl;\n",
        "  }\n",
        "\n",
        "\n",
        "  return 0;\n",
        "}"
      ],
      "execution_count": 6,
      "outputs": [
        {
          "output_type": "stream",
          "text": [
            "3 7 2 4 \n",
            "3 7 0 6 \n",
            "3 7 5 3 \n",
            "3 4 5 0 \n",
            "-------------Result-----------\n",
            "24 20 \n",
            "26 20 \n",
            "\n"
          ],
          "name": "stdout"
        }
      ]
    },
    {
      "cell_type": "markdown",
      "metadata": {
        "id": "WdNZ6UjdXlE7"
      },
      "source": [
        "## Stencil 2D in GPU"
      ]
    },
    {
      "cell_type": "code",
      "metadata": {
        "colab": {
          "base_uri": "https://localhost:8080/"
        },
        "id": "2b9gPmHqXguL",
        "outputId": "b07b6890-1ad1-4d5d-e72d-2c96084df0c9"
      },
      "source": [
        "%%cu\n",
        "#include <cuda.h>\n",
        "#include <iostream>\n",
        "using namespace std;\n",
        "\n",
        "#define N 4\n",
        "\n",
        "__global__ void stencil_2D(int in[], int out[]){\n",
        "    \n",
        "    int index, left, right, below, above;\n",
        "    int i = blockIdx.x;\n",
        "    int j = threadIdx.x;\n",
        "\n",
        "    index = (i+1)*N+(j+1);\n",
        "    left = index - 1;\n",
        "    right = index + 1;\n",
        "    above = i*N + (j+1);\n",
        "    below = (i+2)*N + (j+1);\n",
        "  \n",
        "    out[i*N + j] = in[index] + in[left] + in[right] + in[above] + in[below];\n",
        "\n",
        "}\n",
        "\n",
        "int main(){\n",
        "    \n",
        "    int* in;\n",
        "    int* out;\n",
        "    size_t bytes_in = N * N * sizeof(int);\n",
        "    size_t bytes_out = (N-2) * (N-2) * sizeof(int);\n",
        "    srand(time(NULL));\n",
        "    \n",
        "    cudaMallocHost(&in, bytes_in);\n",
        "    cudaMallocHost(&out, bytes_out);\n",
        "\n",
        "    for (int i=0; i<N*N; i++){\n",
        "        in[i] = rand()%10;\n",
        "    }\n",
        "\n",
        "    for (int i=0; i<N; i++){\n",
        "        for (int j=0; j<N; j++){\n",
        "            cout << in[i*N+j] << \" \";\n",
        "        }\n",
        "        cout << endl;\n",
        "    }\n",
        "\n",
        "    cout << \"-------------START-----------\\n\";\n",
        "    # // Create device variables\n",
        "    int* d_in, *d_out;\n",
        "\n",
        "    # // Allocate memory on the device\n",
        "    cudaMalloc(&d_in, bytes_in);\n",
        "    cudaMalloc(&d_out, bytes_out);\n",
        "\n",
        "    # // Copy data from the host to the device (CPU -> GPU)\n",
        "    cudaMemcpy(d_in, in, bytes_in, cudaMemcpyHostToDevice);\n",
        "    # // Lauch the kernel\n",
        "    stencil_2D<<<N-2, N-2>>>(d_in, d_out);\n",
        "    # // Copy data from the device to the host (GPU -> CPU)\n",
        "    cudaMemcpy(out, d_out, bytes_out, cudaMemcpyDeviceToHost);\n",
        "\n",
        "\n",
        "    stencil_2D<<<N-2, N-2>>>(in, out);\n",
        "\n",
        "    for (int i=0; i<2; i++){\n",
        "        for (int j=0; j<2; j++){\n",
        "            cout << out[i*N+j] << \" \";\n",
        "        }\n",
        "        cout << endl;\n",
        "    }\n",
        "\n",
        "  return 0;\n",
        "}"
      ],
      "execution_count": 7,
      "outputs": [
        {
          "output_type": "stream",
          "text": [
            "9 5 0 9 \n",
            "9 0 6 0 \n",
            "8 4 1 9 \n",
            "8 4 8 8 \n",
            "-------------START-----------\n",
            "24 7 \n",
            "17 28 \n",
            "\n"
          ],
          "name": "stdout"
        }
      ]
    }
  ]
}